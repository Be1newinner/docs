{
 "cells": [
  {
   "cell_type": "markdown",
   "id": "cf6f4f7a-2041-4c9b-9da1-9f7016bb899f",
   "metadata": {},
   "source": [
    "**Call 1: `solve(ip=\"45\", op=[], idx=0)`**\n",
    "* **Current state:** `idx = 0`, `op = []`\n",
    "* `idx == len(ip)` (0 == 2) is `False`."
   ]
  },
  {
   "cell_type": "markdown",
   "id": "5699669d-42a9-4bfc-ae54-8ca22669928f",
   "metadata": {},
   "source": [
    "* **Step 1.1 (First recursive call - \"Exclude\" current `ip[idx]`, which is '4'):**\n",
    "    * `solve(ip=\"45\", op=[], idx=1)`\n",
    "    * **Call 1.1.1:** `solve(ip=\"45\", op=[], idx=1)`\n",
    "        * **Current state:** `idx = 1`, `op = []`\n",
    "        * `idx == len(ip)` (1 == 2) is `False`.\n",
    "        * **Step 1.1.1.1 (First recursive call - \"Exclude\" current `ip[idx]`, which is '5'):**\n",
    "            * `solve(ip=\"45\", op=[], idx=2)`\n",
    "            * **Call 1.1.1.1.1:** `solve(ip=\"45\", op=[], idx=2)`\n",
    "                * **Current state:** `idx = 2`, `op = []`\n",
    "                * `idx == len(ip)` (2 == 2) is `True`. **BASE CASE REACHED!**\n",
    "                * `print(op)` -> **Prints `[]`**\n",
    "                * `return` from `solve(..., [], 2)`.\n",
    "            * *(Returns to Call 1.1.1)*\n",
    "        * **Step 1.1.1.2:** `op.append(ip[1])` -> `op.append('5')`.\n",
    "            * `op` is now `['5']`.\n",
    "        * **Step 1.1.1.3 (Second recursive call - \"Include\" current `ip[idx]`, which is '5'):**\n",
    "            * `solve(ip=\"45\", op=['5'], idx=2)`\n",
    "            * **Call 1.1.1.2.1:** `solve(ip=\"45\", op=['5'], idx=2)`\n",
    "                * **Current state:** `idx = 2`, `op = ['5']`\n",
    "                * `idx == len(ip)` (2 == 2) is `True`. **BASE CASE REACHED!**\n",
    "                * `print(op)` -> **Prints `['5']`**\n",
    "                * `return` from `solve(..., ['5'], 2)`.\n",
    "            * *(Returns to Call 1.1.1)*\n",
    "        * *(Call 1.1.1 finishes executing its two `solve` calls)*\n",
    "        * `return` from `solve(..., ['5'], 1)`. **Crucially, `op` is still `['5']` here.**\n",
    "    * *(Returns to Call 1)*"
   ]
  },
  {
   "cell_type": "markdown",
   "id": "cff9fb29-721c-48a8-9757-0e4f33294bdd",
   "metadata": {},
   "source": [
    "* **Step 1.2:** `op.append(ip[0])` -> `op.append('4')`.\n",
    "    * `op` was `['5']` from the previous branch. Now it becomes `['5', '4']`."
   ]
  },
  {
   "cell_type": "markdown",
   "id": "db0678fd-45f0-4c62-ad26-ec10a3f7aea9",
   "metadata": {},
   "source": [
    "* **Step 1.3 (Second recursive call - \"Include\" current `ip[idx]`, which is '4'):**\n",
    "    * `solve(ip=\"45\", op=['5', '4'], idx=1)`\n",
    "    * **Call 1.2.1:** `solve(ip=\"45\", op=['5', '4'], idx=1)`\n",
    "        * **Current state:** `idx = 1`, `op = ['5', '4']`\n",
    "        * `idx == len(ip)` (1 == 2) is `False`.\n",
    "        * **Step 1.2.1.1 (First recursive call - \"Exclude\" current `ip[idx]`, which is '5'):**\n",
    "            * `solve(ip=\"45\", op=['5', '4'], idx=2)`\n",
    "            * **Call 1.2.1.1.1:** `solve(ip=\"45\", op=['5', '4'], idx=2)`\n",
    "                * **Current state:** `idx = 2`, `op = ['5', '4']`\n",
    "                * `idx == len(ip)` (2 == 2) is `True`. **BASE CASE REACHED!**\n",
    "                * `print(op)` -> **Prints `['5', '4']`**\n",
    "                * `return` from `solve(..., ['5', '4'], 2)`.\n",
    "            * *(Returns to Call 1.2.1)*\n",
    "        * **Step 1.2.1.2:** `op.append(ip[1])` -> `op.append('5')`.\n",
    "            * `op` was `['5', '4']`. Now it becomes `['5', '4', '5']`.\n",
    "        * **Step 1.2.1.3 (Second recursive call - \"Include\" current `ip[idx]`, which is '5'):**\n",
    "            * `solve(ip=\"45\", op=['5', '4', '5'], idx=2)`\n",
    "            * **Call 1.2.1.2.1:** `solve(ip=\"45\", op=['5', '4', '5'], idx=2)`\n",
    "                * **Current state:** `idx = 2`, `op = ['5', '4', '5']`\n",
    "                * `idx == len(ip)` (2 == 2) is `True`. **BASE CASE REACHED!**\n",
    "                * `print(op)` -> **Prints `['5', '4', '5']`**\n",
    "                * `return` from `solve(..., ['5', '4', '5'], 2)`.\n",
    "            * *(Returns to Call 1.2.1)*\n",
    "        * *(Call 1.2.1 finishes executing its two `solve` calls)*\n",
    "        * `return` from `solve(..., ['5', '4', '5'], 1)`. **`op` is still `['5', '4', '5']` here.**\n",
    "    * *(Returns to Call 1)*\n",
    "* *(Call 1 finishes executing its two `solve` calls)*\n",
    "* `return` from `solve(..., ['5', '4', '5'], 0)`."
   ]
  },
  {
   "cell_type": "code",
   "execution_count": 3,
   "id": "d8f2d3d5-3c27-41e8-b3c6-5424b5555adf",
   "metadata": {},
   "outputs": [
    {
     "name": "stdout",
     "output_type": "stream",
     "text": [
      "[]\n",
      "['5']\n",
      "['5', '4']\n",
      "['5', '4', '5']\n"
     ]
    }
   ],
   "source": [
    "def solve(ip, op, idx):\n",
    "    if idx == len(ip):\n",
    "        print(op)\n",
    "        return\n",
    "\n",
    "    solve(ip, op, idx + 1)\n",
    "    op.append(ip[idx])\n",
    "    solve(ip, op, idx + 1)\n",
    "\n",
    "ip = \"45\"\n",
    "op = []\n",
    "solve(ip, op, 0)"
   ]
  },
  {
   "cell_type": "code",
   "execution_count": null,
   "id": "dcd11c5a-49e4-48cd-96e5-7259c5c97cd6",
   "metadata": {},
   "outputs": [],
   "source": []
  }
 ],
 "metadata": {
  "kernelspec": {
   "display_name": "Python 3",
   "language": "python",
   "name": "python3"
  },
  "language_info": {
   "codemirror_mode": {
    "name": "ipython",
    "version": 3
   },
   "file_extension": ".py",
   "mimetype": "text/x-python",
   "name": "python",
   "nbconvert_exporter": "python",
   "pygments_lexer": "ipython3",
   "version": "3.13.1"
  }
 },
 "nbformat": 4,
 "nbformat_minor": 5
}
