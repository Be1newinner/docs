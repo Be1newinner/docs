{
 "cells": [
  {
   "cell_type": "code",
   "execution_count": 7,
   "id": "d8f2d3d5-3c27-41e8-b3c6-5424b5555adf",
   "metadata": {},
   "outputs": [
    {
     "name": "stdout",
     "output_type": "stream",
     "text": [
      "[]\n",
      "['5']\n",
      "['5', '4']\n",
      "['5', '4', '5']\n"
     ]
    }
   ],
   "source": [
    "def solve(ip, op, idx):\n",
    "    if idx == len(ip):\n",
    "        print(op)\n",
    "        return\n",
    "\n",
    "    solve(ip, op, idx + 1)\n",
    "    op.append(ip[idx])\n",
    "    solve(ip, op, idx + 1)\n",
    "\n",
    "ip = \"45\"\n",
    "op = []\n",
    "solve(ip, op, 0)"
   ]
  },
  {
   "cell_type": "code",
   "execution_count": null,
   "id": "dcd11c5a-49e4-48cd-96e5-7259c5c97cd6",
   "metadata": {},
   "outputs": [],
   "source": []
  }
 ],
 "metadata": {
  "kernelspec": {
   "display_name": "Python 3 (ipykernel)",
   "language": "python",
   "name": "python3"
  },
  "language_info": {
   "codemirror_mode": {
    "name": "ipython",
    "version": 3
   },
   "file_extension": ".py",
   "mimetype": "text/x-python",
   "name": "python",
   "nbconvert_exporter": "python",
   "pygments_lexer": "ipython3",
   "version": "3.13.4"
  }
 },
 "nbformat": 4,
 "nbformat_minor": 5
}
